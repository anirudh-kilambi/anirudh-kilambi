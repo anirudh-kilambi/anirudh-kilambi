{
 "cells": [
  {
   "cell_type": "markdown",
   "metadata": {},
   "source": [
    "# A brief review of Python commands\n",
    "\n",
    "\n",
    "The objective of this file is to overview the basics of Python that you had learned in NE111. These topics are noted at a basic level and you will need to go back to the lecture notes for a more comprehensive review. \n",
    "\n",
    "# Preliminaries \n",
    "\n",
    "This lecture relies on a prior installation of the [Anaconda distribution](https://www.anaconda.com/products/individual) which will install Python as well as the [Jupyter Notebook](https://jupyter-notebook.readthedocs.io/en/stable/). Jupyter notebook allows us to have cells containing text,"
   ]
  },
  {
   "cell_type": "code",
   "execution_count": null,
   "metadata": {},
   "outputs": [],
   "source": [
    "#as well as cells containing code\n",
    "#in this case, python code\n",
    "\n",
    "print(\"Did you miss Python?\")"
   ]
  },
  {
   "cell_type": "markdown",
   "metadata": {},
   "source": [
    "# How to run python code\n",
    "\n",
    "There are four methods for you to run python code:\n",
    "\n",
    "- Running code cells from jupyter notebook\n",
    "\n",
    "- Executing commands directly in a Python shell\n",
    "\n",
    "- Running a py file via an editor like Spyder, PyCharm, or VSCode\n",
    "\n",
    "- Creating a py file and running it from the terminal using the command:\n",
    "\n",
    "    - `python [PATH_TO_FILE]/myfile.py` from anaconda prompt. \n",
    "\n",
    "\n",
    "Try running the following piece of code using all four methods. "
   ]
  },
  {
   "cell_type": "code",
   "execution_count": null,
   "metadata": {},
   "outputs": [],
   "source": [
    "print('Hello world!')"
   ]
  },
  {
   "cell_type": "markdown",
   "metadata": {},
   "source": [
    "# Basics of Python Programming Language\n",
    "\n",
    "As an object-oriented programming language, everything in python is an **object** and has a **type**. Let's start by reviewing some data types. \n",
    "\n",
    "## Python Data Types \n",
    "\n",
    "There are many fundamental data types in python. Values are **dynamically typed**. Here is an incomprehensive list of variable types in python. \n",
    "\n",
    "|**Data Type**|**Type in Python**|**Example**|\n",
    "|------------|--------------|-------------|\n",
    "|integer     |`int`         |2            |\n",
    "|float       |`float`       |3.0          |\n",
    "|string      |`str`         |'hello world'|\n",
    "|list        |`list`        |['1','2','3']    |\n",
    "|tuple       |`tuple`       |(1,2,3)      |\n",
    "\n",
    "The last three types are sequences with list being the only mutable one.\n",
    "\n",
    "**Note**: An immutable object cannot be changed once defined. \n"
   ]
  },
  {
   "cell_type": "code",
   "execution_count": null,
   "metadata": {},
   "outputs": [],
   "source": [
    "# the type of an object can be returned with the type() built-in function\n",
    "\n",
    "type([2])"
   ]
  },
  {
   "cell_type": "markdown",
   "metadata": {},
   "source": [
    "## Statements and variables \n",
    "\n",
    "Let's review the basic syntax for arithmetic operations. \n",
    "\n",
    "|**Symbol**  |**Operator**  |**Example Expression**|**Resulting Value**|\n",
    "|------------|--------------|----------------------|-------------------|\n",
    "|-           |negation      |-4                   |-4                |\n",
    "|+           |addition      |11 + 3.1              |14.1               |\n",
    "|-           |subtraction   |5 - 19                |-14                |\n",
    "|*           |multiplication|8.0 * 4               | 32.0              |\n",
    "|/           |division      |11 / 2                |5.5                |\n",
    "|//          |integer division: returns the _floor_ of the result of a division |11 // 2|5|\n",
    "|%           |remainder: returns the remainder from a division|8.5 % 3.5|1.5|\n",
    "|**           |exponentiation|2 ** 5|32|\n"
   ]
  },
  {
   "cell_type": "code",
   "execution_count": null,
   "metadata": {},
   "outputs": [],
   "source": [
    "4/3 #the result of this is a float, even when the operands are int"
   ]
  },
  {
   "cell_type": "code",
   "execution_count": null,
   "metadata": {},
   "outputs": [],
   "source": [
    "4//3 #this is an integer division which returns an int by default"
   ]
  },
  {
   "cell_type": "code",
   "execution_count": null,
   "metadata": {},
   "outputs": [],
   "source": [
    "#we can use expressions in the place of operands \n",
    "(5-1)//(6/2) #what is the type of the result?"
   ]
  },
  {
   "cell_type": "markdown",
   "metadata": {},
   "source": [
    "### Variable Names in Python\n",
    "\n",
    "If we would like to have access to results from certain expressions to be able to utilize them again, we will assign them to a variable. Variable names may not *start with a digit* and **cannot** be a reserved keyword. Using built-in types or functions as variable names will not give an error but should be avoided. "
   ]
  },
  {
   "cell_type": "code",
   "execution_count": null,
   "metadata": {},
   "outputs": [],
   "source": [
    "#here are a few key words that cannot be used as var names \n",
    "#if,and,is,not,while,else,elif\n"
   ]
  },
  {
   "cell_type": "code",
   "execution_count": null,
   "metadata": {},
   "outputs": [],
   "source": [
    "#let's use appropriate var names for finding the area of a circle\n",
    "\n",
    "radius_of_circle = 5 #radius of circle (cm)\n",
    "pi = 3.14\n",
    "area =  pi * radius_of_circle**2 #area of circle (cm**2)\n",
    "\n",
    "#what is the var type for the radius?\n",
    "type(radius_of_circle)"
   ]
  },
  {
   "cell_type": "code",
   "execution_count": null,
   "metadata": {},
   "outputs": [],
   "source": [
    "#How do we see the value for the area\n",
    "\n",
    "#area #take out the comment here to see this\n",
    "\n",
    "#we can also use print\n",
    "print('The area of a circle with a radius of',radius_of_circle,'cms is',area,\"cm^2\")"
   ]
  },
  {
   "cell_type": "markdown",
   "metadata": {},
   "source": [
    "## Functions\n",
    "\n",
    "### Built-in Functions\n",
    "\n",
    "Python provides many [built-in functions](https://docs.python.org/3/library/functions.html) (in addition to built-in [types](https://docs.python.org/3/library/stdtypes.html) and [constants](https://docs.python.org/3/library/constants.html)). We have already seen one built-in function `print`. Here are some additional built-in functions that will help with converting two of data types we have previously seen. \n",
    "\n",
    "|**Function Name**  |**Description**  |\n",
    "|------------|--------------|\n",
    "|print()     |Used for printing values.|\n",
    "|int()       |Convert a number or string to an integer, or return 0 if no arguments are given.  For floating point numbers, this truncates towards zero.      |\n",
    "|float()     |Convert a string or number to a floating point number, if possible.     |\n",
    "|str()       |Creates a new string object from the given object.|"
   ]
  },
  {
   "cell_type": "code",
   "execution_count": null,
   "metadata": {},
   "outputs": [],
   "source": [
    "#typing help(name) will bring up any documentation associated with name\n",
    "\n",
    "#what do you think the type of print is?\n",
    "#type(print)\n",
    "#help(print)\n",
    "\n",
    "print('The area of a circle with radius',float(radius_of_circle),'is',int(area), 'cm^2', sep='\\t',end='')\n"
   ]
  },
  {
   "cell_type": "markdown",
   "metadata": {},
   "source": [
    "Lets look at some builtin functions that work on collections. \n",
    "\n",
    "|**Function Name**  |**Description**  |\n",
    "|------------|--------------|\n",
    "|len()       | Return the number of items in a container.|\n",
    "|max()       | With a single iterable argument, return its biggest item. With two or more arguments, return the largest argument.  |\n",
    "|min()       |   With a single iterable argument, return its smallest item. With two or more arguments, return the smallest argument. |\n"
   ]
  },
  {
   "cell_type": "code",
   "execution_count": null,
   "metadata": {},
   "outputs": [],
   "source": [
    "#try finding the number of items in a list\n",
    "list1=[1,2,3]\n",
    "\n",
    "\n",
    "#how about the max value?\n",
    "max_of_list1 = max(list1)\n",
    "print(max_of_list1)"
   ]
  },
  {
   "cell_type": "code",
   "execution_count": null,
   "metadata": {},
   "outputs": [],
   "source": [
    "#lets try the same task with a tuple \n",
    "tuple1=(3,-1,4)\n",
    "\n",
    "max(tuple1)"
   ]
  },
  {
   "cell_type": "code",
   "execution_count": null,
   "metadata": {},
   "outputs": [],
   "source": [
    "#what about strings? These are collections too!\n",
    "\n",
    "a_string='Separation of Variables is so much fun!'\n",
    "\n",
    "print('The length of the string is',len(a_string))\n"
   ]
  },
  {
   "cell_type": "markdown",
   "metadata": {},
   "source": [
    "### What are implicit methods in python?\n",
    "\n",
    "Since everything is an object in python and has a type, there are many builtin methods for each data type that can be used implicitly (as well as explicitly). To see these method use datatype.method . "
   ]
  },
  {
   "cell_type": "code",
   "execution_count": null,
   "metadata": {},
   "outputs": [],
   "source": [
    "#lets see the available methods for the list type \n",
    "\n",
    "help(list.)#press tab to see all the available methods"
   ]
  },
  {
   "cell_type": "code",
   "execution_count": null,
   "metadata": {},
   "outputs": [],
   "source": [
    "#lets try the count method \n",
    "#list.count([1,2,3,3,3,4,4,5],4)\n",
    "[1,2,3,3,3,4,4,5].count(4)"
   ]
  },
  {
   "cell_type": "markdown",
   "metadata": {},
   "source": [
    "## Practice Exercises\n",
    "\n",
    "### Exercise 1\n",
    "\n",
    "Make a list of values. Return the average of the items in the list using the builtin functions `sum` and `len`. Use ? or help(name of function) to get help on each of these methods. "
   ]
  },
  {
   "cell_type": "code",
   "execution_count": 1,
   "metadata": {},
   "outputs": [
    {
     "name": "stdout",
     "output_type": "stream",
     "text": [
      "The average of my list is => [3.5]\n"
     ]
    }
   ],
   "source": [
    "my_list = [1, 2, 3, 4, 5, 6]\n",
    "\n",
    "sum_of_list = sum(my_list)\n",
    "num_elements_in_list = len(my_list)\n",
    "average = sum_of_list/num_elements_in_list\n",
    "\n",
    "print(f\"The average of my list is => [{average}]\")"
   ]
  },
  {
   "cell_type": "markdown",
   "metadata": {},
   "source": [
    "## Creating our own Functions\n",
    "\n",
    "The most general form of the function definition in python is as follows. \n",
    "\n",
    "```python\n",
    "    def myfunction(input_variable1, input_variable2, ...):\n",
    "\n",
    "        statement1\n",
    "        statement2\n",
    "    \n",
    "        return(output)\n",
    "```\n",
    "**Note** that the function header is followed by a colon (:). The body of the function is indented with four spaces. Let us write a function for our circle."
   ]
  },
  {
   "cell_type": "code",
   "execution_count": null,
   "metadata": {},
   "outputs": [],
   "source": [
    "def area_of_circles(radius):  \n",
    "    area_of_circle = 3.14*radius**2\n",
    "    return radius, area_of_circle\n",
    "\n",
    "radius_1=10\n",
    "r, area_r = area_of_circles(radius_1)\n",
    "#we can use a print statement to show the result\n",
    "print('The area of a circle with radius',r,'is', area_r)"
   ]
  },
  {
   "cell_type": "code",
   "execution_count": null,
   "metadata": {},
   "outputs": [],
   "source": [
    "#now that we have a function, we can compute the area for many circles easily\n",
    "\n",
    "#here is a list of radius values \n",
    "radii= [2,3,4,5]\n",
    "\n",
    "#here is an efficient way of constructing a list \n",
    "#called a list comprehension \n",
    "areas= [area_of_circles(r) for r in radii]  #note how close to human language this syntax is\n",
    "\n",
    "print('the areas for circles of radii',radii,'are',areas)"
   ]
  },
  {
   "cell_type": "markdown",
   "metadata": {},
   "source": [
    "## Exercise 2\n",
    "\n",
    "Using exercise 1, we would like to write a function that takes in a list of values, makes a sorted list of these items (look at the `list` methods for this) and computes the average. The function should return this new sorted list and the average. "
   ]
  },
  {
   "cell_type": "code",
   "execution_count": 3,
   "metadata": {},
   "outputs": [
    {
     "ename": "NameError",
     "evalue": "name 'sort' is not defined",
     "output_type": "error",
     "traceback": [
      "\u001b[0;31m---------------------------------------------------------------------------\u001b[0m",
      "\u001b[0;31mNameError\u001b[0m                                 Traceback (most recent call last)",
      "\u001b[1;32m/Users/Anirudh.Kilambi/Documents/personal/university/3b/che_341/tutorials/tutorial_1/t1_python_review.ipynb Cell 30\u001b[0m line \u001b[0;36m2\n\u001b[1;32m      <a href='vscode-notebook-cell:/Users/Anirudh.Kilambi/Documents/personal/university/3b/che_341/tutorials/tutorial_1/t1_python_review.ipynb#X41sZmlsZQ%3D%3D?line=0'>1</a>\u001b[0m my_list \u001b[39m=\u001b[39m [\u001b[39m10\u001b[39m, \u001b[39m15\u001b[39m, \u001b[39m5\u001b[39m, \u001b[39m8\u001b[39m, \u001b[39m20\u001b[39m]\n\u001b[0;32m----> <a href='vscode-notebook-cell:/Users/Anirudh.Kilambi/Documents/personal/university/3b/che_341/tutorials/tutorial_1/t1_python_review.ipynb#X41sZmlsZQ%3D%3D?line=1'>2</a>\u001b[0m sorted_list \u001b[39m=\u001b[39m sort(my_list)\n\u001b[1;32m      <a href='vscode-notebook-cell:/Users/Anirudh.Kilambi/Documents/personal/university/3b/che_341/tutorials/tutorial_1/t1_python_review.ipynb#X41sZmlsZQ%3D%3D?line=3'>4</a>\u001b[0m average \u001b[39m=\u001b[39m (\u001b[39msum\u001b[39m(my_list)\u001b[39m/\u001b[39m\u001b[39mlen\u001b[39m(my_list))\n\u001b[1;32m      <a href='vscode-notebook-cell:/Users/Anirudh.Kilambi/Documents/personal/university/3b/che_341/tutorials/tutorial_1/t1_python_review.ipynb#X41sZmlsZQ%3D%3D?line=5'>6</a>\u001b[0m \u001b[39mprint\u001b[39m(\u001b[39mf\u001b[39m\u001b[39m\"\u001b[39m\u001b[39mInitial List => \u001b[39m\u001b[39m{\u001b[39;00mmy_list\u001b[39m}\u001b[39;00m\u001b[39m\"\u001b[39m)\n",
      "\u001b[0;31mNameError\u001b[0m: name 'sort' is not defined"
     ]
    }
   ],
   "source": [
    "my_list = [10, 15, 5, 8, 20]\n",
    "sorted_list = my_list.sort \n",
    "\n",
    "average = (sum(my_list)/len(my_list))\n",
    "\n",
    "print(f\"Initial List => {my_list}\")\n",
    "print(f\"Sorted List => {sorted_list}\")\n",
    "print(f\"Average of List => [{average}]\")"
   ]
  },
  {
   "cell_type": "code",
   "execution_count": null,
   "metadata": {},
   "outputs": [],
   "source": []
  },
  {
   "cell_type": "code",
   "execution_count": null,
   "metadata": {},
   "outputs": [],
   "source": []
  },
  {
   "cell_type": "code",
   "execution_count": null,
   "metadata": {},
   "outputs": [],
   "source": []
  },
  {
   "cell_type": "markdown",
   "metadata": {},
   "source": [
    "## Loops and Conditions  \n",
    "\n",
    "Similar to other programming languages, we will need conditional statements in python. Here are some boolean operators in action. \n"
   ]
  },
  {
   "cell_type": "code",
   "execution_count": null,
   "metadata": {},
   "outputs": [],
   "source": [
    "sunny = False \n",
    "\n",
    "rainy = True\n",
    "\n",
    "print('The type for sunny is',type(sunny))\n",
    "\n",
    "if sunny and not rainy:\n",
    "    print(\"It must be a beautiful day!\")\n",
    "elif sunny and rainy :\n",
    "    print(\"Look out for a rainbow! \")\n",
    "elif not sunny and rainy:\n",
    "    print(\"Clouds are waiting outside...\")\n",
    "else:\n",
    "    print(\"Must be nightime!\")\n",
    "    "
   ]
  },
  {
   "cell_type": "code",
   "execution_count": null,
   "metadata": {},
   "outputs": [],
   "source": [
    "##Note there are also == and !=\n",
    "print(sunny==rainy,sunny!=rainy)\n",
    "    "
   ]
  },
  {
   "cell_type": "markdown",
   "metadata": {},
   "source": [
    "Lets look at some loops with examples. A for loop iterates over a collection and sometimes we need to execute a task a certain number of times without having a collection to iterate over. This is when the builtin `range` function becomes useful. "
   ]
  },
  {
   "cell_type": "code",
   "execution_count": null,
   "metadata": {},
   "outputs": [],
   "source": [
    "#loop over collection\n",
    "\n",
    "for item in [1,2,3,4]:\n",
    "    print(item)\n",
    "    \n",
    "#lets look at the help for range \n",
    "#help(range)\n",
    "\n",
    "#print a new line\n",
    "#note strings can be multiplied by a number!\n",
    "print(30*'-')\n",
    "\n",
    "#loop with range \n",
    "for i in range(5):\n",
    "    print('the current value of i is',i)\n",
    "    "
   ]
  },
  {
   "cell_type": "markdown",
   "metadata": {},
   "source": [
    "Note that the values in the range sequence correspond (by default) to indices of items in a collection. So if we have a collection thats mutable, this would be a great way to acces (and perhaps change) the values in that collection. "
   ]
  },
  {
   "cell_type": "code",
   "execution_count": null,
   "metadata": {},
   "outputs": [],
   "source": [
    "#empty list object\n",
    "list_of_names=[]\n",
    "\n",
    "#first names\n",
    "list_of_first_names=['Anny','Nicole','Ben','Lucas']\n",
    "\n",
    "#last names\n",
    "list_of_surnames=['Smith','Anderson','Jones','Davidson']\n",
    "\n",
    "#note that these are parallel list of the same length\n",
    "\n",
    "#so we can combine the data to make the complete names\n",
    "for i in range(len(list_of_first_names)):\n",
    "    \n",
    "    list_of_names.append(list_of_first_names[i]+' '+list_of_surnames[i])#note that + concatenates two str objects \n",
    "    \n",
    "list_of_names"
   ]
  },
  {
   "cell_type": "markdown",
   "metadata": {},
   "source": [
    "If we have a condition to work with, a while loop would be more useful. In this class, we will use for loops a lot to run simulations that deal with iterating over numpy arrays."
   ]
  },
  {
   "cell_type": "markdown",
   "metadata": {},
   "source": [
    "# Modules in python"
   ]
  },
  {
   "cell_type": "markdown",
   "metadata": {},
   "source": [
    "The ideas of modules in python is very similar to libraries in other programming languages. You have worked with numpy previously. \n",
    "\n",
    "Lets import numpy and look at how to make a random integer using one of its functions. "
   ]
  },
  {
   "cell_type": "code",
   "execution_count": null,
   "metadata": {},
   "outputs": [],
   "source": [
    "#most simple method to import a module \n",
    "#syntax : import module_name \n",
    "import numpy as np\n",
    "\n",
    "#to access any of the methods inside the module, we will use the dot operator\n",
    "#example\n",
    "#help(numpy.random.randint)"
   ]
  },
  {
   "cell_type": "markdown",
   "metadata": {},
   "source": [
    "## Applications of numpy \n",
    "\n",
    "We will use numpy in this course extensively so lets spend some time reviewing the basics. In numpy we use the multidimentional array object. We can create arrays a variety of ways.  "
   ]
  },
  {
   "cell_type": "code",
   "execution_count": null,
   "metadata": {},
   "outputs": [],
   "source": [
    "A = np.array([[1,2],[3,4]]) # from a list object\n",
    "\n",
    "# using one of the initializer methods\n",
    "B = np.ones((2, 5)) * 5\n",
    "\n",
    "C = np.zeros((4, 4))\n",
    "\n",
    "D = np.empty((2,3,2))\n",
    "\n",
    "print(\"A = \", A,\"B = \", B, \"C = \", C, \"D = \", D, sep='\\n')"
   ]
  },
  {
   "cell_type": "markdown",
   "metadata": {},
   "source": [
    "The type of an array is ndarray. "
   ]
  },
  {
   "cell_type": "code",
   "execution_count": null,
   "metadata": {},
   "outputs": [],
   "source": [
    "if type(A)==np.ndarray:\n",
    "    print('This is how to check the type')\n",
    "elif type(A)==np.array:\n",
    "    print('This is how not to check the type')\n",
    "    \n",
    "    "
   ]
  },
  {
   "cell_type": "code",
   "execution_count": null,
   "metadata": {},
   "outputs": [],
   "source": [
    "print(type(B))"
   ]
  },
  {
   "cell_type": "markdown",
   "metadata": {},
   "source": [
    "A numpy array has many useful attributes. "
   ]
  },
  {
   "cell_type": "code",
   "execution_count": null,
   "metadata": {},
   "outputs": [],
   "source": [
    "help(numpy.ndarray)"
   ]
  },
  {
   "cell_type": "code",
   "execution_count": null,
   "metadata": {},
   "outputs": [],
   "source": [
    "print(\"A=\",A,\"B=\",B,\"C=\",C,\"D=\",D,sep='\\n')\n",
    "print(A.shape) # shape on an array\n",
    "\n",
    "print(B.ndim) #number of dimensions\n",
    "\n",
    "print(C.size) #can you tell me what this is?\n",
    "\n",
    "print(D.dtype)"
   ]
  },
  {
   "cell_type": "markdown",
   "metadata": {},
   "source": [
    "Indexing into multidimensional arrays is similar to lists. \n",
    "```\n",
    "startindex:stopindex:increment\n",
    "```\n",
    "If any of these are omitted, they are given default values. At least one index should be given. "
   ]
  },
  {
   "cell_type": "code",
   "execution_count": null,
   "metadata": {},
   "outputs": [],
   "source": [
    "A=np.arange(100).reshape(2,2,25)\n",
    "\n",
    "print(\"A=\",A,sep='\\n')\n",
    "\n",
    "print(A[0])#first item in A, which is of shape (2,25)"
   ]
  },
  {
   "cell_type": "code",
   "execution_count": null,
   "metadata": {},
   "outputs": [],
   "source": [
    "#guess what each of the following would print before execution"
   ]
  },
  {
   "cell_type": "code",
   "execution_count": null,
   "metadata": {},
   "outputs": [],
   "source": [
    "print(A[0,0,0])#A is 3 dimensional so needs three indices to access items"
   ]
  },
  {
   "cell_type": "code",
   "execution_count": null,
   "metadata": {},
   "outputs": [],
   "source": [
    "print(A[0,1,0])"
   ]
  },
  {
   "cell_type": "code",
   "execution_count": null,
   "metadata": {},
   "outputs": [],
   "source": [
    "A=np.arange(25).reshape(5,5)\n",
    "\n",
    "print(\"A=\",A,sep='\\n')\n"
   ]
  },
  {
   "cell_type": "code",
   "execution_count": null,
   "metadata": {},
   "outputs": [],
   "source": [
    "print(A[::,::])#all rows all col"
   ]
  },
  {
   "cell_type": "code",
   "execution_count": null,
   "metadata": {},
   "outputs": [],
   "source": [
    "print(A[0:5:1,0:5:1])#all rows all col"
   ]
  },
  {
   "cell_type": "code",
   "execution_count": null,
   "metadata": {},
   "outputs": [],
   "source": [
    "print(A[::2,::])"
   ]
  },
  {
   "cell_type": "code",
   "execution_count": null,
   "metadata": {},
   "outputs": [],
   "source": [
    "print(A[:4,0:4])#increment can be omitted"
   ]
  },
  {
   "cell_type": "markdown",
   "metadata": {},
   "source": [
    "All arithmetic operations are elementwise on arrays. With multidimensional arrays you have to be careful with \"broadcasting\". "
   ]
  },
  {
   "cell_type": "code",
   "execution_count": null,
   "metadata": {},
   "outputs": [],
   "source": [
    "A=np.arange(100).reshape(2,2,25)\n",
    "B=np.arange(50).reshape(2,25)\n",
    "C=np.arange(100).reshape(25,2,2)\n",
    "D=np.arange(25)"
   ]
  },
  {
   "cell_type": "code",
   "execution_count": null,
   "metadata": {},
   "outputs": [],
   "source": [
    "A+B #this is fine,try the next ones"
   ]
  },
  {
   "cell_type": "code",
   "execution_count": null,
   "metadata": {},
   "outputs": [],
   "source": [
    "A+C"
   ]
  },
  {
   "cell_type": "code",
   "execution_count": null,
   "metadata": {},
   "outputs": [],
   "source": [
    "A+D"
   ]
  },
  {
   "cell_type": "markdown",
   "metadata": {},
   "source": [
    "If you would like to use implement matrix multiplication, use the `@` operator. Make sure the shapes conform. "
   ]
  },
  {
   "cell_type": "code",
   "execution_count": null,
   "metadata": {},
   "outputs": [],
   "source": [
    "B=np.arange(50).reshape(2,25)\n",
    "E=np.arange(50).reshape(25,2)\n",
    "\n",
    "B@E\n",
    "\n",
    "#E@B"
   ]
  },
  {
   "cell_type": "markdown",
   "metadata": {},
   "source": [
    "Lastly, we can use the linear algebra submodule of numpy. "
   ]
  },
  {
   "cell_type": "code",
   "execution_count": null,
   "metadata": {},
   "outputs": [],
   "source": [
    "np.linalg.det(A)#rules of linalg apply"
   ]
  },
  {
   "cell_type": "code",
   "execution_count": null,
   "metadata": {},
   "outputs": [],
   "source": [
    "A=np.arange(25).reshape(5,5)\n",
    "np.linalg.inv(A)"
   ]
  },
  {
   "cell_type": "markdown",
   "metadata": {},
   "source": [
    "## Exercise 3\n",
    "\n",
    "Write a function that takes in a 2d array as an input. If it is square, display a message to the user “the array is a square matrix” and evaluate the determinant to show the user with a print statement. If the matrix is not square, display the message : “The matrix is — by — and the determinant cannot be evaluated” with the blanks being the row and column of that array. Name this function IsItSquare.py. \n"
   ]
  },
  {
   "cell_type": "code",
   "execution_count": null,
   "metadata": {},
   "outputs": [],
   "source": [
    "def IsItSquare(A):\n",
    "    '''\n",
    "    (ndarray)-> None \n",
    "    >>>IsItSquare([[1,2,3],[4,5,6]]) \n",
    "    The function needs an array as input\n",
    "    >>>IsItSquare(np.array([[1,2,3],[4,5,6]])) \n",
    "    The matrix is 2 by 3 and the determinant cannot be evaluated. \n",
    "    >>>IsItSquare(np.arange(1,10).reshape(3,3)) \n",
    "    The array is a square matrix with the det=-9.51619735392994e-16\n",
    "    '''"
   ]
  },
  {
   "cell_type": "markdown",
   "metadata": {},
   "source": [
    "In this class, we will often have vectors of information that we iterate over and store the results in storage arrays that can be used later on for plotting."
   ]
  },
  {
   "cell_type": "code",
   "execution_count": null,
   "metadata": {},
   "outputs": [],
   "source": [
    "# prepare the arrays\n",
    "ts = np.linspace(0, 10, 11) # creates a vector of 11 values equally spaced between 0 and 10\n",
    "ys = np.empty(len(ts)) # storage vector\n",
    "\n",
    "# initialize things before entering the for loop\n",
    "y_prev = 1.1\n",
    "\n",
    "# iterate over ts to compute y using y_prev and store in ys\n",
    "for i in range(1,len(ts)):\n",
    "    y_curr = y_prev * ts[i-1] + ts[i]\n",
    "    ys[i] = y_curr\n",
    "    y_prev = y_curr\n",
    "\n",
    "# print the result\n",
    "print('y = ', ys)"
   ]
  },
  {
   "cell_type": "markdown",
   "metadata": {},
   "source": [
    "## Plotting using [Matplotlib](https://matplotlib.org/)\n",
    "\n",
    "We will extensively use Matplotlib to plot dynamic trajectories (i.e., time series) in this course. \n",
    "\n",
    "### Exercise 4\n",
    "Before we get started let's generate a simple time trajectory using `sin(t)` from `t = 0` to `t = 10`. Create a vector `ts` that contains the time steps and another vector `ys` that contains the function values. Use a for loop to do this. (Hint: `np.sin` should be useful)"
   ]
  },
  {
   "cell_type": "code",
   "execution_count": null,
   "metadata": {},
   "outputs": [],
   "source": []
  },
  {
   "cell_type": "markdown",
   "metadata": {},
   "source": [
    "Now that we have the data we need to plot. Let's make a plot using `matplotlib.pyplot`:"
   ]
  },
  {
   "cell_type": "code",
   "execution_count": null,
   "metadata": {},
   "outputs": [],
   "source": [
    "#we require the matplotlib library for plotting\n",
    "#syntax : import module_name as other_name \n",
    "import matplotlib.pyplot as plt\n",
    "\n",
    "#now we can call the methods with the new module name\n",
    "plt.plot(ts, ys, 'r--', label = 'sin(t)')\n",
    "plt.xlabel('time (t)')\n",
    "plt.ylabel('function value')\n",
    "plt.legend(loc = 'best')\n",
    "plt.show()"
   ]
  }
 ],
 "metadata": {
  "kernelspec": {
   "display_name": "Python 3 (ipykernel)",
   "language": "python",
   "name": "python3"
  },
  "language_info": {
   "codemirror_mode": {
    "name": "ipython",
    "version": 3
   },
   "file_extension": ".py",
   "mimetype": "text/x-python",
   "name": "python",
   "nbconvert_exporter": "python",
   "pygments_lexer": "ipython3",
   "version": "3.9.6"
  }
 },
 "nbformat": 4,
 "nbformat_minor": 2
}
